{
 "cells": [
  {
   "cell_type": "markdown",
   "id": "877411f6",
   "metadata": {},
   "source": [
    "<h1>Lab | Web Scraping Single Page</h1>"
   ]
  },
  {
   "cell_type": "markdown",
   "id": "c4918105",
   "metadata": {},
   "source": [
    "**Business goal:**\n",
    "1) Check the case_study_gnod.md file.\n",
    "\n",
    "2) Make sure you've understood the big picture of your project:\n",
    "- the goal of the company (Gnod),\n",
    "- their current product (Gnoosic),\n",
    "- their strategy, and\n",
    "- how your project fits into this context.\n",
    "\n",
    "Re-read the business case and the e-mail from the CTO, take a look at the flowchart and create an initial Trello board with the tasks you think you'll have to accomplish.\n",
    "\n",
    "**Instructions - Scraping popular songs**\n",
    "\n",
    "Your product will take a song as an input from the user and will output another song (the recommendation). In most cases, the recommended song will have to be similar to the inputted song, but the CTO thinks that if the song is on the top charts at the moment, the user will enjoy more a recommendation of a song that's also popular at the moment.\n",
    "\n",
    "You have find data on the internet about currently popular songs. Billboard maintains a weekly Top 100 of \"hot\" songs here: https://www.billboard.com/charts/hot-100.\n",
    "\n",
    "It's a good place to start!\n",
    "\n",
    "**The goal of this lab is to create a function: scrape_hot100()** to scrape the current top 100 songs present at https://www.billboard.com/charts/hot-100 and their respective artists, put the information into a pandas dataframe, and save the dataframe in a csv file in the current folder."
   ]
  },
  {
   "cell_type": "code",
   "execution_count": 1,
   "id": "9185fdec",
   "metadata": {},
   "outputs": [],
   "source": [
    "# importing libraries\n",
    "\n",
    "import requests\n",
    "from bs4 import BeautifulSoup\n",
    "import pandas as pd\n",
    "import numpy as np"
   ]
  },
  {
   "cell_type": "code",
   "execution_count": 2,
   "id": "e68d7ac4",
   "metadata": {},
   "outputs": [
    {
     "name": "stdout",
     "output_type": "stream",
     "text": [
      "200\n"
     ]
    }
   ],
   "source": [
    "# find url and store it in a variable\n",
    "url = \"https://www.billboard.com/charts/hot-100/\"\n",
    "\n",
    "# download html with a get request\n",
    "response = requests.get(url)\n",
    "\n",
    "print(response.status_code) # 200 status code means OK!"
   ]
  },
  {
   "cell_type": "code",
   "execution_count": 3,
   "id": "02ea05c9",
   "metadata": {},
   "outputs": [],
   "source": [
    "# parsing html (create the 'soup')\n",
    "soup = BeautifulSoup(response.text, 'html.parser')\n",
    "# print(soup.prettify())"
   ]
  },
  {
   "cell_type": "code",
   "execution_count": 4,
   "id": "f92adb69",
   "metadata": {},
   "outputs": [
    {
     "data": {
      "text/plain": [
       "100"
      ]
     },
     "execution_count": 4,
     "metadata": {},
     "output_type": "execute_result"
    }
   ],
   "source": [
    "num_iter = len(soup.select(\"li.o-chart-results-list__item > h3\"))\n",
    "num_iter"
   ]
  },
  {
   "cell_type": "code",
   "execution_count": 5,
   "id": "d0df950f",
   "metadata": {},
   "outputs": [
    {
     "name": "stdout",
     "output_type": "stream",
     "text": [
      "Lift Me Up\n",
      "Unholy\n",
      "Bad Habit\n",
      "As It Was\n",
      "Lavender Haze\n",
      "Midnight Rain\n",
      "I Like You (A Happier Song)\n",
      "Bejeweled\n",
      "Super Freaky Girl\n",
      "Shirt\n",
      "Maroon\n",
      "I Ain't Worried\n",
      "You Proof\n",
      "I'm Good (Blue)\n",
      "Snow On The Beach\n",
      "Karma\n",
      "Vegas\n",
      "Sunroof\n",
      "You're On Your Own, Kid\n",
      "Under The Influence\n",
      "Wasted On You\n",
      "In My Head\n",
      "Vigilante Shit\n",
      "Jimmy Cooks\n",
      "Thriller\n",
      "Die For You\n",
      "Wait For U\n",
      "Something In The Orange\n",
      "Titi Me Pregunto\n",
      "Cuff It\n",
      "Question...?\n",
      "About Damn Time\n",
      "Late Night Talking\n",
      "Tomorrow 2\n",
      "The Kind Of Love We Make\n",
      "She Had Me At Heads Carolina\n",
      "Mastermind\n",
      "Unstoppable\n",
      "Hold Me Closer\n",
      "Me Porto Bonito\n",
      "Labyrinth\n",
      "Thank God\n",
      "5 Foot 9\n",
      "Sweet Nothing\n",
      "Golden Hour\n",
      "Monster Mash\n",
      "Just Wanna Rock\n",
      "Ghostbusters\n",
      "Fall In Love\n",
      "The Astronaut\n",
      "Half Of Me\n",
      "Until I Found You\n",
      "Rock And A Hard Place\n",
      "California Breeze\n",
      "Victoria’s Secret\n",
      "Son Of A Sinner\n",
      "What My World Spins Around\n",
      "Would've, Could've, Should've\n",
      "Star Walkin' (League Of Legends Worlds Anthem)\n",
      "Heyy\n",
      "Music For A Sushi Restaurant\n",
      "Made You Look\n",
      "Forever\n",
      "Romantic Homicide\n",
      "Don't Come Lookin'\n",
      "Wishful Drinking\n",
      "Bigger Than The Whole Sky\n",
      "Free Mind\n",
      "No Se Va\n",
      "The Great War\n",
      "Billie Eilish.\n",
      "Paris\n",
      "Whiskey On You\n",
      "All Mine\n",
      "Wait In The Truck\n",
      "Monotonia\n",
      "Hotel Lobby (Unc And Phew)\n",
      "High Infidelity\n",
      "2 Be Loved (Am I Ready)\n",
      "Staying Alive\n",
      "Real Spill\n",
      "Last Last\n",
      "Miss You\n",
      "Never Hating\n",
      "Glitch\n",
      "Freestyle\n",
      "Calm Down\n",
      "Stand On It\n",
      "La Bachata\n",
      "Gotta Move On\n",
      "Ain't Safe\n",
      "Pick Me Up\n",
      "Betty (Get Money)\n",
      "Gatubela\n",
      "300 Blackout\n",
      "Dear Reader\n",
      "Country On\n",
      "Bzrp Music Sessions, Vol. 52\n",
      "Evergreen\n"
     ]
    }
   ],
   "source": [
    "# searching for the names of the songs and singer names\n",
    "\n",
    "for songs in soup.find_all(\"li\",{\"class\":\"o-chart-results-list__item // lrv-u-flex-grow-1 lrv-u-flex lrv-u-flex-direction-column lrv-u-justify-content-center lrv-u-border-b-1 u-border-b-0@mobile-max lrv-u-border-color-grey-light lrv-u-padding-l-050 lrv-u-padding-l-1@mobile-max\"}):\n",
    "    print(songs.find_all(\"h3\")[0].get_text().replace(\"\\t\",\"\").replace(\"\\n\",\"\"))"
   ]
  },
  {
   "cell_type": "code",
   "execution_count": 6,
   "id": "17439723",
   "metadata": {},
   "outputs": [
    {
     "name": "stdout",
     "output_type": "stream",
     "text": [
      "Rihanna\n",
      "Sam Smith & Kim Petras\n",
      "Steve Lacy\n",
      "Harry Styles\n",
      "Taylor Swift\n",
      "Taylor Swift\n",
      "Post Malone Featuring Doja Cat\n",
      "Taylor Swift\n",
      "Nicki Minaj\n",
      "SZA\n",
      "Taylor Swift\n",
      "OneRepublic\n",
      "Morgan Wallen\n",
      "David Guetta & Bebe Rexha\n",
      "Taylor Swift Featuring Lana Del Rey\n",
      "Taylor Swift\n",
      "Doja Cat\n",
      "Nicky Youre & dazy\n",
      "Taylor Swift\n",
      "Chris Brown\n",
      "Morgan Wallen\n",
      "Juice WRLD\n",
      "Taylor Swift\n",
      "Drake Featuring 21 Savage\n",
      "Michael Jackson\n",
      "The Weeknd\n",
      "Future Featuring Drake & Tems\n",
      "Zach Bryan\n",
      "Bad Bunny\n",
      "Beyonce\n",
      "Taylor Swift\n",
      "Lizzo\n",
      "Harry Styles\n",
      "GloRilla & Cardi B\n",
      "Luke Combs\n",
      "Cole Swindell\n",
      "Taylor Swift\n",
      "Sia\n",
      "Elton John & Britney Spears\n",
      "Bad Bunny & Chencho Corleone\n",
      "Taylor Swift\n",
      "Kane Brown With Katelyn Brown\n",
      "Tyler Hubbard\n",
      "Taylor Swift\n",
      "JVKE\n",
      "Bobby \"Boris\" Pickett And The Crypt-Kickers\n",
      "Lil Uzi Vert\n",
      "Ray Parker Jr.\n",
      "Bailey Zimmerman\n",
      "JIN\n",
      "Thomas Rhett Featuring Riley Green\n",
      "Stephen Sanchez\n",
      "Bailey Zimmerman\n",
      "Lil Baby\n",
      "Jax\n",
      "Jelly Roll\n",
      "Jordan Davis\n",
      "Taylor Swift\n",
      "Lil Nas X\n",
      "Lil Baby\n",
      "Harry Styles\n",
      "Meghan Trainor\n",
      "Lil Baby Featuring Fridayy\n",
      "d4vd\n",
      "Jackson Dean\n",
      "Ingrid Andress With Sam Hunt\n",
      "Taylor Swift\n",
      "Tems\n",
      "Grupo Frontera\n",
      "Taylor Swift\n",
      "Armani White\n",
      "Taylor Swift\n",
      "Nate Smith\n",
      "Brent Faiyaz\n",
      "HARDY Featuring Lainey Wilson\n",
      "Shakira + Ozuna\n",
      "Quavo & Takeoff\n",
      "Taylor Swift\n",
      "Lizzo\n",
      "DJ Khaled Featuring Drake & Lil Baby\n",
      "Lil Baby\n",
      "Burna Boy\n",
      "Oliver Tree & Robin Schulz\n",
      "Lil Baby & Young Thug\n",
      "Taylor Swift\n",
      "Lil Baby\n",
      "Rema & Selena Gomez\n",
      "Lil Baby\n",
      "Manuel Turizo\n",
      "Diddy & Bryson Tiller\n",
      "Trippie Redd & Don Toliver\n",
      "Gabby Barrett\n",
      "Yung Gravy\n",
      "Karol G x Maldy\n",
      "Kodak Black\n",
      "Taylor Swift\n",
      "Luke Bryan\n",
      "Bizarrap & Quevedo\n",
      "Omar Apollo\n"
     ]
    }
   ],
   "source": [
    "for songs in soup.find_all(\"li\",{\"class\":\"o-chart-results-list__item // lrv-u-flex-grow-1 lrv-u-flex lrv-u-flex-direction-column lrv-u-justify-content-center lrv-u-border-b-1 u-border-b-0@mobile-max lrv-u-border-color-grey-light lrv-u-padding-l-050 lrv-u-padding-l-1@mobile-max\"}):\n",
    "    print(songs.find_all(\"span\")[0].get_text().replace(\"\\t\",\"\").replace(\"\\n\",\"\"))"
   ]
  },
  {
   "cell_type": "code",
   "execution_count": 7,
   "id": "0c74f136",
   "metadata": {},
   "outputs": [
    {
     "name": "stdout",
     "output_type": "stream",
     "text": [
      "['\\n\\t\\n\\tTaylor Swift\\n']\n"
     ]
    }
   ],
   "source": [
    "song_name = soup.select('#post-1479786 > div.pmc-paywall > div > div > div > div > div > ul > li.lrv-u-width-100p > ul > li > span')[0]\n",
    "\n",
    "song_name = [text.get_text() for text in song_name]\n",
    "\n",
    "print(song_name)\n"
   ]
  },
  {
   "cell_type": "code",
   "execution_count": 8,
   "id": "1c01362c",
   "metadata": {},
   "outputs": [
    {
     "data": {
      "text/plain": [
       "<h3 class=\"c-title a-no-trucate a-font-primary-bold-s u-letter-spacing-0021 u-font-size-23@tablet lrv-u-font-size-16 u-line-height-125 u-line-height-normal@mobile-max a-truncate-ellipsis u-max-width-245 u-max-width-230@tablet-only u-letter-spacing-0028@tablet\" id=\"title-of-a-story\">\n",
       "\n",
       "\t\n",
       "\t\n",
       "\t\t\n",
       "\t\t\t\t\tAnti-Hero\t\t\n",
       "\t\n",
       "</h3>"
      ]
     },
     "execution_count": 8,
     "metadata": {},
     "output_type": "execute_result"
    }
   ],
   "source": [
    "soup.select('#post-1479786 > div.pmc-paywall > div > div > div > div > div > ul > li.lrv-u-width-100p > ul > li > h3')[0]\n"
   ]
  },
  {
   "cell_type": "code",
   "execution_count": 9,
   "id": "327d4a5e",
   "metadata": {},
   "outputs": [],
   "source": [
    "\n",
    "for songs in soup.find_all(\"li\",{\"class\":\"o-chart-results-list__item // lrv-u-flex-grow-1 lrv-u-flex lrv-u-flex-direction-column lrv-u-justify-content-center lrv-u-border-b-1 u-border-b-0@mobile-max lrv-u-border-color-grey-light  lrv-u-padding-l-1@mobile-max\"}):\n",
    "        print(songs.find_all(\"h3\")[0].get_text().replace(\"\\t\",\"\").replace(\"\\n\",\"\"))\n",
    "\n",
    "        print(songs.find_all(\"span\")[0].get_text().replace(\"\\t\",\"\").replace(\"\\n\",\"\"))\n"
   ]
  },
  {
   "cell_type": "code",
   "execution_count": 10,
   "id": "50aeecf8",
   "metadata": {},
   "outputs": [],
   "source": [
    "# Creating a function for web scraping\n",
    "\n",
    "def scrape_hot100():\n",
    "    url = \"https://www.billboard.com/charts/hot-100/\"\n",
    "    response = requests.get(url)\n",
    "    soup = BeautifulSoup(response.text, 'html.parser')\n",
    "    song_name = []\n",
    "    song_artist = []\n",
    "    first_name = soup.select('#post-1479786 > div.pmc-paywall > div > div > div > div > div > ul > li.lrv-u-width-100p > ul > li > h3')[0].get_text().replace(\"\\t\",\"\").replace(\"\\n\",\"\")\n",
    "    song_name.append(first_name)\n",
    "    first_artist = soup.select('#post-1479786 > div.pmc-paywall > div > div > div > div > div > ul > li.lrv-u-width-100p > ul > li > span')[0].get_text().replace(\"\\t\",\"\").replace(\"\\n\",\"\")\n",
    "    song_artist.append(first_artist)\n",
    "    for songs in soup.find_all(\"li\",{\"class\":\"o-chart-results-list__item // lrv-u-flex-grow-1 lrv-u-flex lrv-u-flex-direction-column lrv-u-justify-content-center lrv-u-border-b-1 u-border-b-0@mobile-max lrv-u-border-color-grey-light lrv-u-padding-l-050 lrv-u-padding-l-1@mobile-max\"}):\n",
    "        name=songs.find_all(\"h3\")[0].get_text().replace(\"\\t\",\"\").replace(\"\\n\",\"\")\n",
    "        song_name.append(name)\n",
    "        artist=songs.find_all(\"span\")[0].get_text().replace(\"\\t\",\"\").replace(\"\\n\",\"\")\n",
    "        song_artist.append(artist)\n",
    "    hot100=pd.DataFrame({\n",
    "    \"song_name\":song_name,\n",
    "    \"song_artist\":song_artist})\n",
    "    hot100.to_csv('hot100.csv', index=False)"
   ]
  },
  {
   "cell_type": "code",
   "execution_count": 11,
   "id": "a9037683",
   "metadata": {},
   "outputs": [],
   "source": [
    "scrape_hot100()"
   ]
  },
  {
   "cell_type": "markdown",
   "id": "92fe4266",
   "metadata": {},
   "source": [
    "Now we have a file 'hot100.csv' with 100 hot songs."
   ]
  },
  {
   "cell_type": "code",
   "execution_count": null,
   "id": "ebd4e64a",
   "metadata": {},
   "outputs": [],
   "source": []
  },
  {
   "cell_type": "code",
   "execution_count": null,
   "id": "374a64dd",
   "metadata": {},
   "outputs": [],
   "source": []
  },
  {
   "cell_type": "code",
   "execution_count": null,
   "id": "0d318f03",
   "metadata": {},
   "outputs": [],
   "source": []
  }
 ],
 "metadata": {
  "kernelspec": {
   "display_name": "Python 3 (ipykernel)",
   "language": "python",
   "name": "python3"
  },
  "language_info": {
   "codemirror_mode": {
    "name": "ipython",
    "version": 3
   },
   "file_extension": ".py",
   "mimetype": "text/x-python",
   "name": "python",
   "nbconvert_exporter": "python",
   "pygments_lexer": "ipython3",
   "version": "3.9.12"
  }
 },
 "nbformat": 4,
 "nbformat_minor": 5
}
